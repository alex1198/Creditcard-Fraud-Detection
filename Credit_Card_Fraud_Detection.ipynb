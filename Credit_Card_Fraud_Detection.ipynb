{
  "nbformat": 4,
  "nbformat_minor": 0,
  "metadata": {
    "colab": {
      "name": "Credit Card Fraud Detection.ipynb",
      "provenance": [],
      "collapsed_sections": []
    },
    "kernelspec": {
      "name": "python3",
      "display_name": "Python 3"
    },
    "language_info": {
      "name": "python"
    }
  },
  "cells": [
    {
      "cell_type": "markdown",
      "metadata": {
        "id": "Q0tMcF09PrK5"
      },
      "source": [
        "### Importing Libraries"
      ]
    },
    {
      "cell_type": "code",
      "metadata": {
        "id": "_WfAL3g2Pwyj"
      },
      "source": [
        "import numpy as np\n",
        "import pandas as pd\n",
        "from sklearn.model_selection import train_test_split\n",
        "from sklearn.tree import DecisionTreeClassifier\n",
        "from sklearn.ensemble import RandomForestClassifier\n",
        "from sklearn.neighbors import KNeighborsClassifier\n",
        "from sklearn.naive_bayes import GaussianNB\n",
        "from sklearn.linear_model import LogisticRegression\n",
        "from sklearn.metrics import accuracy_score"
      ],
      "execution_count": 1,
      "outputs": []
    },
    {
      "cell_type": "markdown",
      "metadata": {
        "id": "un4Hwh8tQLdK"
      },
      "source": [
        "### Load DataFrame"
      ]
    },
    {
      "cell_type": "code",
      "metadata": {
        "id": "o9p_1dxqQJZd"
      },
      "source": [
        "credit_card_data = pd.read_csv(\"creditcard.csv\")"
      ],
      "execution_count": 2,
      "outputs": []
    },
    {
      "cell_type": "markdown",
      "metadata": {
        "id": "dZoaJV7QW821"
      },
      "source": [
        "### First Five Rows Of Data"
      ]
    },
    {
      "cell_type": "code",
      "metadata": {
        "colab": {
          "base_uri": "https://localhost:8080/",
          "height": 224
        },
        "id": "aBGrd6tpWCaz",
        "outputId": "7ad56a0a-2d71-4668-8764-406520a81435"
      },
      "source": [
        "credit_card_data.head()"
      ],
      "execution_count": 3,
      "outputs": [
        {
          "output_type": "execute_result",
          "data": {
            "text/html": [
              "<div>\n",
              "<style scoped>\n",
              "    .dataframe tbody tr th:only-of-type {\n",
              "        vertical-align: middle;\n",
              "    }\n",
              "\n",
              "    .dataframe tbody tr th {\n",
              "        vertical-align: top;\n",
              "    }\n",
              "\n",
              "    .dataframe thead th {\n",
              "        text-align: right;\n",
              "    }\n",
              "</style>\n",
              "<table border=\"1\" class=\"dataframe\">\n",
              "  <thead>\n",
              "    <tr style=\"text-align: right;\">\n",
              "      <th></th>\n",
              "      <th>Time</th>\n",
              "      <th>V1</th>\n",
              "      <th>V2</th>\n",
              "      <th>V3</th>\n",
              "      <th>V4</th>\n",
              "      <th>V5</th>\n",
              "      <th>V6</th>\n",
              "      <th>V7</th>\n",
              "      <th>V8</th>\n",
              "      <th>V9</th>\n",
              "      <th>V10</th>\n",
              "      <th>V11</th>\n",
              "      <th>V12</th>\n",
              "      <th>V13</th>\n",
              "      <th>V14</th>\n",
              "      <th>V15</th>\n",
              "      <th>V16</th>\n",
              "      <th>V17</th>\n",
              "      <th>V18</th>\n",
              "      <th>V19</th>\n",
              "      <th>V20</th>\n",
              "      <th>V21</th>\n",
              "      <th>V22</th>\n",
              "      <th>V23</th>\n",
              "      <th>V24</th>\n",
              "      <th>V25</th>\n",
              "      <th>V26</th>\n",
              "      <th>V27</th>\n",
              "      <th>V28</th>\n",
              "      <th>Amount</th>\n",
              "      <th>Class</th>\n",
              "    </tr>\n",
              "  </thead>\n",
              "  <tbody>\n",
              "    <tr>\n",
              "      <th>0</th>\n",
              "      <td>0.0</td>\n",
              "      <td>-1.359807</td>\n",
              "      <td>-0.072781</td>\n",
              "      <td>2.536347</td>\n",
              "      <td>1.378155</td>\n",
              "      <td>-0.338321</td>\n",
              "      <td>0.462388</td>\n",
              "      <td>0.239599</td>\n",
              "      <td>0.098698</td>\n",
              "      <td>0.363787</td>\n",
              "      <td>0.090794</td>\n",
              "      <td>-0.551600</td>\n",
              "      <td>-0.617801</td>\n",
              "      <td>-0.991390</td>\n",
              "      <td>-0.311169</td>\n",
              "      <td>1.468177</td>\n",
              "      <td>-0.470401</td>\n",
              "      <td>0.207971</td>\n",
              "      <td>0.025791</td>\n",
              "      <td>0.403993</td>\n",
              "      <td>0.251412</td>\n",
              "      <td>-0.018307</td>\n",
              "      <td>0.277838</td>\n",
              "      <td>-0.110474</td>\n",
              "      <td>0.066928</td>\n",
              "      <td>0.128539</td>\n",
              "      <td>-0.189115</td>\n",
              "      <td>0.133558</td>\n",
              "      <td>-0.021053</td>\n",
              "      <td>149.62</td>\n",
              "      <td>0</td>\n",
              "    </tr>\n",
              "    <tr>\n",
              "      <th>1</th>\n",
              "      <td>0.0</td>\n",
              "      <td>1.191857</td>\n",
              "      <td>0.266151</td>\n",
              "      <td>0.166480</td>\n",
              "      <td>0.448154</td>\n",
              "      <td>0.060018</td>\n",
              "      <td>-0.082361</td>\n",
              "      <td>-0.078803</td>\n",
              "      <td>0.085102</td>\n",
              "      <td>-0.255425</td>\n",
              "      <td>-0.166974</td>\n",
              "      <td>1.612727</td>\n",
              "      <td>1.065235</td>\n",
              "      <td>0.489095</td>\n",
              "      <td>-0.143772</td>\n",
              "      <td>0.635558</td>\n",
              "      <td>0.463917</td>\n",
              "      <td>-0.114805</td>\n",
              "      <td>-0.183361</td>\n",
              "      <td>-0.145783</td>\n",
              "      <td>-0.069083</td>\n",
              "      <td>-0.225775</td>\n",
              "      <td>-0.638672</td>\n",
              "      <td>0.101288</td>\n",
              "      <td>-0.339846</td>\n",
              "      <td>0.167170</td>\n",
              "      <td>0.125895</td>\n",
              "      <td>-0.008983</td>\n",
              "      <td>0.014724</td>\n",
              "      <td>2.69</td>\n",
              "      <td>0</td>\n",
              "    </tr>\n",
              "    <tr>\n",
              "      <th>2</th>\n",
              "      <td>1.0</td>\n",
              "      <td>-1.358354</td>\n",
              "      <td>-1.340163</td>\n",
              "      <td>1.773209</td>\n",
              "      <td>0.379780</td>\n",
              "      <td>-0.503198</td>\n",
              "      <td>1.800499</td>\n",
              "      <td>0.791461</td>\n",
              "      <td>0.247676</td>\n",
              "      <td>-1.514654</td>\n",
              "      <td>0.207643</td>\n",
              "      <td>0.624501</td>\n",
              "      <td>0.066084</td>\n",
              "      <td>0.717293</td>\n",
              "      <td>-0.165946</td>\n",
              "      <td>2.345865</td>\n",
              "      <td>-2.890083</td>\n",
              "      <td>1.109969</td>\n",
              "      <td>-0.121359</td>\n",
              "      <td>-2.261857</td>\n",
              "      <td>0.524980</td>\n",
              "      <td>0.247998</td>\n",
              "      <td>0.771679</td>\n",
              "      <td>0.909412</td>\n",
              "      <td>-0.689281</td>\n",
              "      <td>-0.327642</td>\n",
              "      <td>-0.139097</td>\n",
              "      <td>-0.055353</td>\n",
              "      <td>-0.059752</td>\n",
              "      <td>378.66</td>\n",
              "      <td>0</td>\n",
              "    </tr>\n",
              "    <tr>\n",
              "      <th>3</th>\n",
              "      <td>1.0</td>\n",
              "      <td>-0.966272</td>\n",
              "      <td>-0.185226</td>\n",
              "      <td>1.792993</td>\n",
              "      <td>-0.863291</td>\n",
              "      <td>-0.010309</td>\n",
              "      <td>1.247203</td>\n",
              "      <td>0.237609</td>\n",
              "      <td>0.377436</td>\n",
              "      <td>-1.387024</td>\n",
              "      <td>-0.054952</td>\n",
              "      <td>-0.226487</td>\n",
              "      <td>0.178228</td>\n",
              "      <td>0.507757</td>\n",
              "      <td>-0.287924</td>\n",
              "      <td>-0.631418</td>\n",
              "      <td>-1.059647</td>\n",
              "      <td>-0.684093</td>\n",
              "      <td>1.965775</td>\n",
              "      <td>-1.232622</td>\n",
              "      <td>-0.208038</td>\n",
              "      <td>-0.108300</td>\n",
              "      <td>0.005274</td>\n",
              "      <td>-0.190321</td>\n",
              "      <td>-1.175575</td>\n",
              "      <td>0.647376</td>\n",
              "      <td>-0.221929</td>\n",
              "      <td>0.062723</td>\n",
              "      <td>0.061458</td>\n",
              "      <td>123.50</td>\n",
              "      <td>0</td>\n",
              "    </tr>\n",
              "    <tr>\n",
              "      <th>4</th>\n",
              "      <td>2.0</td>\n",
              "      <td>-1.158233</td>\n",
              "      <td>0.877737</td>\n",
              "      <td>1.548718</td>\n",
              "      <td>0.403034</td>\n",
              "      <td>-0.407193</td>\n",
              "      <td>0.095921</td>\n",
              "      <td>0.592941</td>\n",
              "      <td>-0.270533</td>\n",
              "      <td>0.817739</td>\n",
              "      <td>0.753074</td>\n",
              "      <td>-0.822843</td>\n",
              "      <td>0.538196</td>\n",
              "      <td>1.345852</td>\n",
              "      <td>-1.119670</td>\n",
              "      <td>0.175121</td>\n",
              "      <td>-0.451449</td>\n",
              "      <td>-0.237033</td>\n",
              "      <td>-0.038195</td>\n",
              "      <td>0.803487</td>\n",
              "      <td>0.408542</td>\n",
              "      <td>-0.009431</td>\n",
              "      <td>0.798278</td>\n",
              "      <td>-0.137458</td>\n",
              "      <td>0.141267</td>\n",
              "      <td>-0.206010</td>\n",
              "      <td>0.502292</td>\n",
              "      <td>0.219422</td>\n",
              "      <td>0.215153</td>\n",
              "      <td>69.99</td>\n",
              "      <td>0</td>\n",
              "    </tr>\n",
              "  </tbody>\n",
              "</table>\n",
              "</div>"
            ],
            "text/plain": [
              "   Time        V1        V2        V3  ...       V27       V28  Amount  Class\n",
              "0   0.0 -1.359807 -0.072781  2.536347  ...  0.133558 -0.021053  149.62      0\n",
              "1   0.0  1.191857  0.266151  0.166480  ... -0.008983  0.014724    2.69      0\n",
              "2   1.0 -1.358354 -1.340163  1.773209  ... -0.055353 -0.059752  378.66      0\n",
              "3   1.0 -0.966272 -0.185226  1.792993  ...  0.062723  0.061458  123.50      0\n",
              "4   2.0 -1.158233  0.877737  1.548718  ...  0.219422  0.215153   69.99      0\n",
              "\n",
              "[5 rows x 31 columns]"
            ]
          },
          "metadata": {
            "tags": []
          },
          "execution_count": 3
        }
      ]
    },
    {
      "cell_type": "markdown",
      "metadata": {
        "id": "j0fjCyiYXAr2"
      },
      "source": [
        "### Last Five Rows Of Data"
      ]
    },
    {
      "cell_type": "code",
      "metadata": {
        "colab": {
          "base_uri": "https://localhost:8080/",
          "height": 224
        },
        "id": "Rc9Tpzp2WGTt",
        "outputId": "22250466-dd4f-4b4a-d8b1-1c86de5f2c8c"
      },
      "source": [
        "credit_card_data.tail()"
      ],
      "execution_count": 4,
      "outputs": [
        {
          "output_type": "execute_result",
          "data": {
            "text/html": [
              "<div>\n",
              "<style scoped>\n",
              "    .dataframe tbody tr th:only-of-type {\n",
              "        vertical-align: middle;\n",
              "    }\n",
              "\n",
              "    .dataframe tbody tr th {\n",
              "        vertical-align: top;\n",
              "    }\n",
              "\n",
              "    .dataframe thead th {\n",
              "        text-align: right;\n",
              "    }\n",
              "</style>\n",
              "<table border=\"1\" class=\"dataframe\">\n",
              "  <thead>\n",
              "    <tr style=\"text-align: right;\">\n",
              "      <th></th>\n",
              "      <th>Time</th>\n",
              "      <th>V1</th>\n",
              "      <th>V2</th>\n",
              "      <th>V3</th>\n",
              "      <th>V4</th>\n",
              "      <th>V5</th>\n",
              "      <th>V6</th>\n",
              "      <th>V7</th>\n",
              "      <th>V8</th>\n",
              "      <th>V9</th>\n",
              "      <th>V10</th>\n",
              "      <th>V11</th>\n",
              "      <th>V12</th>\n",
              "      <th>V13</th>\n",
              "      <th>V14</th>\n",
              "      <th>V15</th>\n",
              "      <th>V16</th>\n",
              "      <th>V17</th>\n",
              "      <th>V18</th>\n",
              "      <th>V19</th>\n",
              "      <th>V20</th>\n",
              "      <th>V21</th>\n",
              "      <th>V22</th>\n",
              "      <th>V23</th>\n",
              "      <th>V24</th>\n",
              "      <th>V25</th>\n",
              "      <th>V26</th>\n",
              "      <th>V27</th>\n",
              "      <th>V28</th>\n",
              "      <th>Amount</th>\n",
              "      <th>Class</th>\n",
              "    </tr>\n",
              "  </thead>\n",
              "  <tbody>\n",
              "    <tr>\n",
              "      <th>284802</th>\n",
              "      <td>172786.0</td>\n",
              "      <td>-11.881118</td>\n",
              "      <td>10.071785</td>\n",
              "      <td>-9.834783</td>\n",
              "      <td>-2.066656</td>\n",
              "      <td>-5.364473</td>\n",
              "      <td>-2.606837</td>\n",
              "      <td>-4.918215</td>\n",
              "      <td>7.305334</td>\n",
              "      <td>1.914428</td>\n",
              "      <td>4.356170</td>\n",
              "      <td>-1.593105</td>\n",
              "      <td>2.711941</td>\n",
              "      <td>-0.689256</td>\n",
              "      <td>4.626942</td>\n",
              "      <td>-0.924459</td>\n",
              "      <td>1.107641</td>\n",
              "      <td>1.991691</td>\n",
              "      <td>0.510632</td>\n",
              "      <td>-0.682920</td>\n",
              "      <td>1.475829</td>\n",
              "      <td>0.213454</td>\n",
              "      <td>0.111864</td>\n",
              "      <td>1.014480</td>\n",
              "      <td>-0.509348</td>\n",
              "      <td>1.436807</td>\n",
              "      <td>0.250034</td>\n",
              "      <td>0.943651</td>\n",
              "      <td>0.823731</td>\n",
              "      <td>0.77</td>\n",
              "      <td>0</td>\n",
              "    </tr>\n",
              "    <tr>\n",
              "      <th>284803</th>\n",
              "      <td>172787.0</td>\n",
              "      <td>-0.732789</td>\n",
              "      <td>-0.055080</td>\n",
              "      <td>2.035030</td>\n",
              "      <td>-0.738589</td>\n",
              "      <td>0.868229</td>\n",
              "      <td>1.058415</td>\n",
              "      <td>0.024330</td>\n",
              "      <td>0.294869</td>\n",
              "      <td>0.584800</td>\n",
              "      <td>-0.975926</td>\n",
              "      <td>-0.150189</td>\n",
              "      <td>0.915802</td>\n",
              "      <td>1.214756</td>\n",
              "      <td>-0.675143</td>\n",
              "      <td>1.164931</td>\n",
              "      <td>-0.711757</td>\n",
              "      <td>-0.025693</td>\n",
              "      <td>-1.221179</td>\n",
              "      <td>-1.545556</td>\n",
              "      <td>0.059616</td>\n",
              "      <td>0.214205</td>\n",
              "      <td>0.924384</td>\n",
              "      <td>0.012463</td>\n",
              "      <td>-1.016226</td>\n",
              "      <td>-0.606624</td>\n",
              "      <td>-0.395255</td>\n",
              "      <td>0.068472</td>\n",
              "      <td>-0.053527</td>\n",
              "      <td>24.79</td>\n",
              "      <td>0</td>\n",
              "    </tr>\n",
              "    <tr>\n",
              "      <th>284804</th>\n",
              "      <td>172788.0</td>\n",
              "      <td>1.919565</td>\n",
              "      <td>-0.301254</td>\n",
              "      <td>-3.249640</td>\n",
              "      <td>-0.557828</td>\n",
              "      <td>2.630515</td>\n",
              "      <td>3.031260</td>\n",
              "      <td>-0.296827</td>\n",
              "      <td>0.708417</td>\n",
              "      <td>0.432454</td>\n",
              "      <td>-0.484782</td>\n",
              "      <td>0.411614</td>\n",
              "      <td>0.063119</td>\n",
              "      <td>-0.183699</td>\n",
              "      <td>-0.510602</td>\n",
              "      <td>1.329284</td>\n",
              "      <td>0.140716</td>\n",
              "      <td>0.313502</td>\n",
              "      <td>0.395652</td>\n",
              "      <td>-0.577252</td>\n",
              "      <td>0.001396</td>\n",
              "      <td>0.232045</td>\n",
              "      <td>0.578229</td>\n",
              "      <td>-0.037501</td>\n",
              "      <td>0.640134</td>\n",
              "      <td>0.265745</td>\n",
              "      <td>-0.087371</td>\n",
              "      <td>0.004455</td>\n",
              "      <td>-0.026561</td>\n",
              "      <td>67.88</td>\n",
              "      <td>0</td>\n",
              "    </tr>\n",
              "    <tr>\n",
              "      <th>284805</th>\n",
              "      <td>172788.0</td>\n",
              "      <td>-0.240440</td>\n",
              "      <td>0.530483</td>\n",
              "      <td>0.702510</td>\n",
              "      <td>0.689799</td>\n",
              "      <td>-0.377961</td>\n",
              "      <td>0.623708</td>\n",
              "      <td>-0.686180</td>\n",
              "      <td>0.679145</td>\n",
              "      <td>0.392087</td>\n",
              "      <td>-0.399126</td>\n",
              "      <td>-1.933849</td>\n",
              "      <td>-0.962886</td>\n",
              "      <td>-1.042082</td>\n",
              "      <td>0.449624</td>\n",
              "      <td>1.962563</td>\n",
              "      <td>-0.608577</td>\n",
              "      <td>0.509928</td>\n",
              "      <td>1.113981</td>\n",
              "      <td>2.897849</td>\n",
              "      <td>0.127434</td>\n",
              "      <td>0.265245</td>\n",
              "      <td>0.800049</td>\n",
              "      <td>-0.163298</td>\n",
              "      <td>0.123205</td>\n",
              "      <td>-0.569159</td>\n",
              "      <td>0.546668</td>\n",
              "      <td>0.108821</td>\n",
              "      <td>0.104533</td>\n",
              "      <td>10.00</td>\n",
              "      <td>0</td>\n",
              "    </tr>\n",
              "    <tr>\n",
              "      <th>284806</th>\n",
              "      <td>172792.0</td>\n",
              "      <td>-0.533413</td>\n",
              "      <td>-0.189733</td>\n",
              "      <td>0.703337</td>\n",
              "      <td>-0.506271</td>\n",
              "      <td>-0.012546</td>\n",
              "      <td>-0.649617</td>\n",
              "      <td>1.577006</td>\n",
              "      <td>-0.414650</td>\n",
              "      <td>0.486180</td>\n",
              "      <td>-0.915427</td>\n",
              "      <td>-1.040458</td>\n",
              "      <td>-0.031513</td>\n",
              "      <td>-0.188093</td>\n",
              "      <td>-0.084316</td>\n",
              "      <td>0.041333</td>\n",
              "      <td>-0.302620</td>\n",
              "      <td>-0.660377</td>\n",
              "      <td>0.167430</td>\n",
              "      <td>-0.256117</td>\n",
              "      <td>0.382948</td>\n",
              "      <td>0.261057</td>\n",
              "      <td>0.643078</td>\n",
              "      <td>0.376777</td>\n",
              "      <td>0.008797</td>\n",
              "      <td>-0.473649</td>\n",
              "      <td>-0.818267</td>\n",
              "      <td>-0.002415</td>\n",
              "      <td>0.013649</td>\n",
              "      <td>217.00</td>\n",
              "      <td>0</td>\n",
              "    </tr>\n",
              "  </tbody>\n",
              "</table>\n",
              "</div>"
            ],
            "text/plain": [
              "            Time         V1         V2  ...       V28  Amount  Class\n",
              "284802  172786.0 -11.881118  10.071785  ...  0.823731    0.77      0\n",
              "284803  172787.0  -0.732789  -0.055080  ... -0.053527   24.79      0\n",
              "284804  172788.0   1.919565  -0.301254  ... -0.026561   67.88      0\n",
              "284805  172788.0  -0.240440   0.530483  ...  0.104533   10.00      0\n",
              "284806  172792.0  -0.533413  -0.189733  ...  0.013649  217.00      0\n",
              "\n",
              "[5 rows x 31 columns]"
            ]
          },
          "metadata": {
            "tags": []
          },
          "execution_count": 4
        }
      ]
    },
    {
      "cell_type": "markdown",
      "metadata": {
        "id": "5nJPDybHXE-H"
      },
      "source": [
        "### Information of the credit card dataset"
      ]
    },
    {
      "cell_type": "code",
      "metadata": {
        "colab": {
          "base_uri": "https://localhost:8080/"
        },
        "id": "U3NnI6oJWnrB",
        "outputId": "cf4ef0c6-4dfa-40ae-dd2b-d6dece76a374"
      },
      "source": [
        "credit_card_data.info()"
      ],
      "execution_count": 5,
      "outputs": [
        {
          "output_type": "stream",
          "text": [
            "<class 'pandas.core.frame.DataFrame'>\n",
            "RangeIndex: 284807 entries, 0 to 284806\n",
            "Data columns (total 31 columns):\n",
            " #   Column  Non-Null Count   Dtype  \n",
            "---  ------  --------------   -----  \n",
            " 0   Time    284807 non-null  float64\n",
            " 1   V1      284807 non-null  float64\n",
            " 2   V2      284807 non-null  float64\n",
            " 3   V3      284807 non-null  float64\n",
            " 4   V4      284807 non-null  float64\n",
            " 5   V5      284807 non-null  float64\n",
            " 6   V6      284807 non-null  float64\n",
            " 7   V7      284807 non-null  float64\n",
            " 8   V8      284807 non-null  float64\n",
            " 9   V9      284807 non-null  float64\n",
            " 10  V10     284807 non-null  float64\n",
            " 11  V11     284807 non-null  float64\n",
            " 12  V12     284807 non-null  float64\n",
            " 13  V13     284807 non-null  float64\n",
            " 14  V14     284807 non-null  float64\n",
            " 15  V15     284807 non-null  float64\n",
            " 16  V16     284807 non-null  float64\n",
            " 17  V17     284807 non-null  float64\n",
            " 18  V18     284807 non-null  float64\n",
            " 19  V19     284807 non-null  float64\n",
            " 20  V20     284807 non-null  float64\n",
            " 21  V21     284807 non-null  float64\n",
            " 22  V22     284807 non-null  float64\n",
            " 23  V23     284807 non-null  float64\n",
            " 24  V24     284807 non-null  float64\n",
            " 25  V25     284807 non-null  float64\n",
            " 26  V26     284807 non-null  float64\n",
            " 27  V27     284807 non-null  float64\n",
            " 28  V28     284807 non-null  float64\n",
            " 29  Amount  284807 non-null  float64\n",
            " 30  Class   284807 non-null  int64  \n",
            "dtypes: float64(30), int64(1)\n",
            "memory usage: 67.4 MB\n"
          ],
          "name": "stdout"
        }
      ]
    },
    {
      "cell_type": "markdown",
      "metadata": {
        "id": "lFFsWXqmXNcv"
      },
      "source": [
        "### Check Missing Values"
      ]
    },
    {
      "cell_type": "code",
      "metadata": {
        "colab": {
          "base_uri": "https://localhost:8080/"
        },
        "id": "Cfvh_B-BW2Bl",
        "outputId": "6b1f8be4-75eb-45ab-8d3f-6933cb5e299a"
      },
      "source": [
        "credit_card_data.isnull().sum()"
      ],
      "execution_count": 6,
      "outputs": [
        {
          "output_type": "execute_result",
          "data": {
            "text/plain": [
              "Time      0\n",
              "V1        0\n",
              "V2        0\n",
              "V3        0\n",
              "V4        0\n",
              "V5        0\n",
              "V6        0\n",
              "V7        0\n",
              "V8        0\n",
              "V9        0\n",
              "V10       0\n",
              "V11       0\n",
              "V12       0\n",
              "V13       0\n",
              "V14       0\n",
              "V15       0\n",
              "V16       0\n",
              "V17       0\n",
              "V18       0\n",
              "V19       0\n",
              "V20       0\n",
              "V21       0\n",
              "V22       0\n",
              "V23       0\n",
              "V24       0\n",
              "V25       0\n",
              "V26       0\n",
              "V27       0\n",
              "V28       0\n",
              "Amount    0\n",
              "Class     0\n",
              "dtype: int64"
            ]
          },
          "metadata": {
            "tags": []
          },
          "execution_count": 6
        }
      ]
    },
    {
      "cell_type": "markdown",
      "metadata": {
        "id": "ilRbKG2qXiJM"
      },
      "source": [
        "### Distribution of legit and fradulent transaction"
      ]
    },
    {
      "cell_type": "code",
      "metadata": {
        "colab": {
          "base_uri": "https://localhost:8080/"
        },
        "id": "gsUIMEKXXU2Q",
        "outputId": "14cbdcc2-da32-4181-fbfe-4fe7d60f8965"
      },
      "source": [
        "credit_card_data[\"Class\"].value_counts()"
      ],
      "execution_count": 7,
      "outputs": [
        {
          "output_type": "execute_result",
          "data": {
            "text/plain": [
              "0    284315\n",
              "1       492\n",
              "Name: Class, dtype: int64"
            ]
          },
          "metadata": {
            "tags": []
          },
          "execution_count": 7
        }
      ]
    },
    {
      "cell_type": "markdown",
      "metadata": {
        "id": "PaR7L2mgYE2v"
      },
      "source": [
        "We can see here, this dataset is highly unbalanced, where 0 represents legit transaction and 1 represents fradulent transaction."
      ]
    },
    {
      "cell_type": "markdown",
      "metadata": {
        "id": "dLyZzT84Yppo"
      },
      "source": [
        "###   Separating  data based on unique class from analysis and storing in different variables"
      ]
    },
    {
      "cell_type": "code",
      "metadata": {
        "id": "ciVjlFK4XsVG"
      },
      "source": [
        "legit = credit_card_data[credit_card_data.Class == 0]\n",
        "fraud = credit_card_data[credit_card_data.Class == 1]"
      ],
      "execution_count": 8,
      "outputs": []
    },
    {
      "cell_type": "code",
      "metadata": {
        "colab": {
          "base_uri": "https://localhost:8080/"
        },
        "id": "Sbsh_UxYZBmk",
        "outputId": "edc1e293-85c9-48c0-ce62-db884e61ba0a"
      },
      "source": [
        "legit.shape"
      ],
      "execution_count": 9,
      "outputs": [
        {
          "output_type": "execute_result",
          "data": {
            "text/plain": [
              "(284315, 31)"
            ]
          },
          "metadata": {
            "tags": []
          },
          "execution_count": 9
        }
      ]
    },
    {
      "cell_type": "code",
      "metadata": {
        "colab": {
          "base_uri": "https://localhost:8080/"
        },
        "id": "IiuOp5EXZDT_",
        "outputId": "33ab483d-1b9b-479b-f37f-d7615b0867bd"
      },
      "source": [
        "fraud.shape"
      ],
      "execution_count": 10,
      "outputs": [
        {
          "output_type": "execute_result",
          "data": {
            "text/plain": [
              "(492, 31)"
            ]
          },
          "metadata": {
            "tags": []
          },
          "execution_count": 10
        }
      ]
    },
    {
      "cell_type": "markdown",
      "metadata": {
        "id": "LiicgNeOZQae"
      },
      "source": [
        "### Statistical measures of data\n"
      ]
    },
    {
      "cell_type": "code",
      "metadata": {
        "colab": {
          "base_uri": "https://localhost:8080/"
        },
        "id": "LV7-WllkZH22",
        "outputId": "6d613e48-72d5-4a34-f48b-a24f8755f819"
      },
      "source": [
        "legit.Amount.describe()"
      ],
      "execution_count": 11,
      "outputs": [
        {
          "output_type": "execute_result",
          "data": {
            "text/plain": [
              "count    284315.000000\n",
              "mean         88.291022\n",
              "std         250.105092\n",
              "min           0.000000\n",
              "25%           5.650000\n",
              "50%          22.000000\n",
              "75%          77.050000\n",
              "max       25691.160000\n",
              "Name: Amount, dtype: float64"
            ]
          },
          "metadata": {
            "tags": []
          },
          "execution_count": 11
        }
      ]
    },
    {
      "cell_type": "code",
      "metadata": {
        "colab": {
          "base_uri": "https://localhost:8080/"
        },
        "id": "gy4GwiZhZaos",
        "outputId": "3eefc63f-828a-4139-edab-c622aae85de5"
      },
      "source": [
        "fraud.Amount.describe()"
      ],
      "execution_count": 12,
      "outputs": [
        {
          "output_type": "execute_result",
          "data": {
            "text/plain": [
              "count     492.000000\n",
              "mean      122.211321\n",
              "std       256.683288\n",
              "min         0.000000\n",
              "25%         1.000000\n",
              "50%         9.250000\n",
              "75%       105.890000\n",
              "max      2125.870000\n",
              "Name: Amount, dtype: float64"
            ]
          },
          "metadata": {
            "tags": []
          },
          "execution_count": 12
        }
      ]
    },
    {
      "cell_type": "markdown",
      "metadata": {
        "id": "UkEubEiuclOn"
      },
      "source": [
        "### Compare the values for both of the classes"
      ]
    },
    {
      "cell_type": "code",
      "metadata": {
        "colab": {
          "base_uri": "https://localhost:8080/",
          "height": 162
        },
        "id": "X20YsSIZcY-w",
        "outputId": "05e65e4b-af36-457c-87d7-282b00a79c7e"
      },
      "source": [
        "credit_card_data.groupby('Class').mean()"
      ],
      "execution_count": 13,
      "outputs": [
        {
          "output_type": "execute_result",
          "data": {
            "text/html": [
              "<div>\n",
              "<style scoped>\n",
              "    .dataframe tbody tr th:only-of-type {\n",
              "        vertical-align: middle;\n",
              "    }\n",
              "\n",
              "    .dataframe tbody tr th {\n",
              "        vertical-align: top;\n",
              "    }\n",
              "\n",
              "    .dataframe thead th {\n",
              "        text-align: right;\n",
              "    }\n",
              "</style>\n",
              "<table border=\"1\" class=\"dataframe\">\n",
              "  <thead>\n",
              "    <tr style=\"text-align: right;\">\n",
              "      <th></th>\n",
              "      <th>Time</th>\n",
              "      <th>V1</th>\n",
              "      <th>V2</th>\n",
              "      <th>V3</th>\n",
              "      <th>V4</th>\n",
              "      <th>V5</th>\n",
              "      <th>V6</th>\n",
              "      <th>V7</th>\n",
              "      <th>V8</th>\n",
              "      <th>V9</th>\n",
              "      <th>V10</th>\n",
              "      <th>V11</th>\n",
              "      <th>V12</th>\n",
              "      <th>V13</th>\n",
              "      <th>V14</th>\n",
              "      <th>V15</th>\n",
              "      <th>V16</th>\n",
              "      <th>V17</th>\n",
              "      <th>V18</th>\n",
              "      <th>V19</th>\n",
              "      <th>V20</th>\n",
              "      <th>V21</th>\n",
              "      <th>V22</th>\n",
              "      <th>V23</th>\n",
              "      <th>V24</th>\n",
              "      <th>V25</th>\n",
              "      <th>V26</th>\n",
              "      <th>V27</th>\n",
              "      <th>V28</th>\n",
              "      <th>Amount</th>\n",
              "    </tr>\n",
              "    <tr>\n",
              "      <th>Class</th>\n",
              "      <th></th>\n",
              "      <th></th>\n",
              "      <th></th>\n",
              "      <th></th>\n",
              "      <th></th>\n",
              "      <th></th>\n",
              "      <th></th>\n",
              "      <th></th>\n",
              "      <th></th>\n",
              "      <th></th>\n",
              "      <th></th>\n",
              "      <th></th>\n",
              "      <th></th>\n",
              "      <th></th>\n",
              "      <th></th>\n",
              "      <th></th>\n",
              "      <th></th>\n",
              "      <th></th>\n",
              "      <th></th>\n",
              "      <th></th>\n",
              "      <th></th>\n",
              "      <th></th>\n",
              "      <th></th>\n",
              "      <th></th>\n",
              "      <th></th>\n",
              "      <th></th>\n",
              "      <th></th>\n",
              "      <th></th>\n",
              "      <th></th>\n",
              "      <th></th>\n",
              "    </tr>\n",
              "  </thead>\n",
              "  <tbody>\n",
              "    <tr>\n",
              "      <th>0</th>\n",
              "      <td>94838.202258</td>\n",
              "      <td>0.008258</td>\n",
              "      <td>-0.006271</td>\n",
              "      <td>0.012171</td>\n",
              "      <td>-0.007860</td>\n",
              "      <td>0.005453</td>\n",
              "      <td>0.002419</td>\n",
              "      <td>0.009637</td>\n",
              "      <td>-0.000987</td>\n",
              "      <td>0.004467</td>\n",
              "      <td>0.009824</td>\n",
              "      <td>-0.006576</td>\n",
              "      <td>0.010832</td>\n",
              "      <td>0.000189</td>\n",
              "      <td>0.012064</td>\n",
              "      <td>0.000161</td>\n",
              "      <td>0.007164</td>\n",
              "      <td>0.011535</td>\n",
              "      <td>0.003887</td>\n",
              "      <td>-0.001178</td>\n",
              "      <td>-0.000644</td>\n",
              "      <td>-0.001235</td>\n",
              "      <td>-0.000024</td>\n",
              "      <td>0.000070</td>\n",
              "      <td>0.000182</td>\n",
              "      <td>-0.000072</td>\n",
              "      <td>-0.000089</td>\n",
              "      <td>-0.000295</td>\n",
              "      <td>-0.000131</td>\n",
              "      <td>88.291022</td>\n",
              "    </tr>\n",
              "    <tr>\n",
              "      <th>1</th>\n",
              "      <td>80746.806911</td>\n",
              "      <td>-4.771948</td>\n",
              "      <td>3.623778</td>\n",
              "      <td>-7.033281</td>\n",
              "      <td>4.542029</td>\n",
              "      <td>-3.151225</td>\n",
              "      <td>-1.397737</td>\n",
              "      <td>-5.568731</td>\n",
              "      <td>0.570636</td>\n",
              "      <td>-2.581123</td>\n",
              "      <td>-5.676883</td>\n",
              "      <td>3.800173</td>\n",
              "      <td>-6.259393</td>\n",
              "      <td>-0.109334</td>\n",
              "      <td>-6.971723</td>\n",
              "      <td>-0.092929</td>\n",
              "      <td>-4.139946</td>\n",
              "      <td>-6.665836</td>\n",
              "      <td>-2.246308</td>\n",
              "      <td>0.680659</td>\n",
              "      <td>0.372319</td>\n",
              "      <td>0.713588</td>\n",
              "      <td>0.014049</td>\n",
              "      <td>-0.040308</td>\n",
              "      <td>-0.105130</td>\n",
              "      <td>0.041449</td>\n",
              "      <td>0.051648</td>\n",
              "      <td>0.170575</td>\n",
              "      <td>0.075667</td>\n",
              "      <td>122.211321</td>\n",
              "    </tr>\n",
              "  </tbody>\n",
              "</table>\n",
              "</div>"
            ],
            "text/plain": [
              "               Time        V1        V2  ...       V27       V28      Amount\n",
              "Class                                    ...                                \n",
              "0      94838.202258  0.008258 -0.006271  ... -0.000295 -0.000131   88.291022\n",
              "1      80746.806911 -4.771948  3.623778  ...  0.170575  0.075667  122.211321\n",
              "\n",
              "[2 rows x 30 columns]"
            ]
          },
          "metadata": {
            "tags": []
          },
          "execution_count": 13
        }
      ]
    },
    {
      "cell_type": "markdown",
      "metadata": {
        "id": "hrFz88_tfEQf"
      },
      "source": [
        "### UnderSampling"
      ]
    },
    {
      "cell_type": "markdown",
      "metadata": {
        "id": "Df5T7RWUfG5H"
      },
      "source": [
        "Here, if we can see that 0th class has 2lacks+ values and 1th class had only 492 which is not well distributed. So, here we are using undersampling method to make a class of the dataset evenly distributed. So there will be 0th class has 492 datapoints and 1th class has the same.\n",
        "\n",
        "\n",
        "What is undersampling?\n",
        "-> Random undersampling involves randomly selecting examples from the majority class to delete from the training dataset. This has the effect of reducing the number of examples in the majority class in the transformed version of the training dataset."
      ]
    },
    {
      "cell_type": "code",
      "metadata": {
        "id": "MIwh_d28c6c8"
      },
      "source": [
        "new_legit = legit.sample(n=492)"
      ],
      "execution_count": 14,
      "outputs": []
    },
    {
      "cell_type": "code",
      "metadata": {
        "colab": {
          "base_uri": "https://localhost:8080/",
          "height": 379
        },
        "id": "dFRWjHwyfqbB",
        "outputId": "38522ba8-ffab-4c7a-9fce-2ed93eeea0e9"
      },
      "source": [
        "new_legit.head(10)"
      ],
      "execution_count": 15,
      "outputs": [
        {
          "output_type": "execute_result",
          "data": {
            "text/html": [
              "<div>\n",
              "<style scoped>\n",
              "    .dataframe tbody tr th:only-of-type {\n",
              "        vertical-align: middle;\n",
              "    }\n",
              "\n",
              "    .dataframe tbody tr th {\n",
              "        vertical-align: top;\n",
              "    }\n",
              "\n",
              "    .dataframe thead th {\n",
              "        text-align: right;\n",
              "    }\n",
              "</style>\n",
              "<table border=\"1\" class=\"dataframe\">\n",
              "  <thead>\n",
              "    <tr style=\"text-align: right;\">\n",
              "      <th></th>\n",
              "      <th>Time</th>\n",
              "      <th>V1</th>\n",
              "      <th>V2</th>\n",
              "      <th>V3</th>\n",
              "      <th>V4</th>\n",
              "      <th>V5</th>\n",
              "      <th>V6</th>\n",
              "      <th>V7</th>\n",
              "      <th>V8</th>\n",
              "      <th>V9</th>\n",
              "      <th>V10</th>\n",
              "      <th>V11</th>\n",
              "      <th>V12</th>\n",
              "      <th>V13</th>\n",
              "      <th>V14</th>\n",
              "      <th>V15</th>\n",
              "      <th>V16</th>\n",
              "      <th>V17</th>\n",
              "      <th>V18</th>\n",
              "      <th>V19</th>\n",
              "      <th>V20</th>\n",
              "      <th>V21</th>\n",
              "      <th>V22</th>\n",
              "      <th>V23</th>\n",
              "      <th>V24</th>\n",
              "      <th>V25</th>\n",
              "      <th>V26</th>\n",
              "      <th>V27</th>\n",
              "      <th>V28</th>\n",
              "      <th>Amount</th>\n",
              "      <th>Class</th>\n",
              "    </tr>\n",
              "  </thead>\n",
              "  <tbody>\n",
              "    <tr>\n",
              "      <th>180459</th>\n",
              "      <td>124550.0</td>\n",
              "      <td>-0.769523</td>\n",
              "      <td>-0.740289</td>\n",
              "      <td>-3.232501</td>\n",
              "      <td>0.646654</td>\n",
              "      <td>2.583942</td>\n",
              "      <td>-2.144038</td>\n",
              "      <td>1.710934</td>\n",
              "      <td>-0.410972</td>\n",
              "      <td>-0.555162</td>\n",
              "      <td>-1.331541</td>\n",
              "      <td>0.999056</td>\n",
              "      <td>-0.450714</td>\n",
              "      <td>-1.358006</td>\n",
              "      <td>-1.467250</td>\n",
              "      <td>-0.427492</td>\n",
              "      <td>-0.272639</td>\n",
              "      <td>1.944838</td>\n",
              "      <td>1.902235</td>\n",
              "      <td>0.608326</td>\n",
              "      <td>0.758915</td>\n",
              "      <td>0.691741</td>\n",
              "      <td>1.364693</td>\n",
              "      <td>0.668579</td>\n",
              "      <td>-0.700736</td>\n",
              "      <td>-0.972079</td>\n",
              "      <td>-0.413428</td>\n",
              "      <td>0.243452</td>\n",
              "      <td>0.432841</td>\n",
              "      <td>267.70</td>\n",
              "      <td>0</td>\n",
              "    </tr>\n",
              "    <tr>\n",
              "      <th>62560</th>\n",
              "      <td>50317.0</td>\n",
              "      <td>-0.379474</td>\n",
              "      <td>1.153319</td>\n",
              "      <td>1.062073</td>\n",
              "      <td>0.255905</td>\n",
              "      <td>1.356841</td>\n",
              "      <td>-0.330336</td>\n",
              "      <td>1.768379</td>\n",
              "      <td>-0.744261</td>\n",
              "      <td>-0.743575</td>\n",
              "      <td>0.087334</td>\n",
              "      <td>-1.090290</td>\n",
              "      <td>-0.172559</td>\n",
              "      <td>0.988523</td>\n",
              "      <td>-0.229796</td>\n",
              "      <td>0.488429</td>\n",
              "      <td>-0.230592</td>\n",
              "      <td>-0.922873</td>\n",
              "      <td>-0.039339</td>\n",
              "      <td>0.292647</td>\n",
              "      <td>0.158378</td>\n",
              "      <td>-0.056096</td>\n",
              "      <td>0.187469</td>\n",
              "      <td>-0.548637</td>\n",
              "      <td>-0.591952</td>\n",
              "      <td>0.561483</td>\n",
              "      <td>-0.311998</td>\n",
              "      <td>-0.384768</td>\n",
              "      <td>-0.357081</td>\n",
              "      <td>24.19</td>\n",
              "      <td>0</td>\n",
              "    </tr>\n",
              "    <tr>\n",
              "      <th>140395</th>\n",
              "      <td>83699.0</td>\n",
              "      <td>1.103428</td>\n",
              "      <td>-0.215299</td>\n",
              "      <td>1.350711</td>\n",
              "      <td>0.897186</td>\n",
              "      <td>-1.069743</td>\n",
              "      <td>-0.024331</td>\n",
              "      <td>-0.683371</td>\n",
              "      <td>0.184929</td>\n",
              "      <td>0.896975</td>\n",
              "      <td>-0.288852</td>\n",
              "      <td>-0.210466</td>\n",
              "      <td>0.659984</td>\n",
              "      <td>0.015531</td>\n",
              "      <td>-0.366909</td>\n",
              "      <td>0.422639</td>\n",
              "      <td>-0.226806</td>\n",
              "      <td>0.220688</td>\n",
              "      <td>-0.796569</td>\n",
              "      <td>-0.524448</td>\n",
              "      <td>-0.127976</td>\n",
              "      <td>-0.038344</td>\n",
              "      <td>0.106042</td>\n",
              "      <td>0.094952</td>\n",
              "      <td>0.437660</td>\n",
              "      <td>0.137082</td>\n",
              "      <td>0.325662</td>\n",
              "      <td>0.033051</td>\n",
              "      <td>0.028267</td>\n",
              "      <td>15.00</td>\n",
              "      <td>0</td>\n",
              "    </tr>\n",
              "    <tr>\n",
              "      <th>53086</th>\n",
              "      <td>45808.0</td>\n",
              "      <td>-0.305537</td>\n",
              "      <td>1.059246</td>\n",
              "      <td>0.823741</td>\n",
              "      <td>-0.328596</td>\n",
              "      <td>0.656286</td>\n",
              "      <td>0.026208</td>\n",
              "      <td>0.620435</td>\n",
              "      <td>0.133672</td>\n",
              "      <td>-0.611405</td>\n",
              "      <td>-0.352489</td>\n",
              "      <td>0.481447</td>\n",
              "      <td>0.342700</td>\n",
              "      <td>0.464501</td>\n",
              "      <td>-0.347533</td>\n",
              "      <td>0.254041</td>\n",
              "      <td>0.910000</td>\n",
              "      <td>-0.680185</td>\n",
              "      <td>0.711669</td>\n",
              "      <td>0.635765</td>\n",
              "      <td>0.186193</td>\n",
              "      <td>-0.283884</td>\n",
              "      <td>-0.773229</td>\n",
              "      <td>-0.164148</td>\n",
              "      <td>-0.883463</td>\n",
              "      <td>-0.025500</td>\n",
              "      <td>0.125925</td>\n",
              "      <td>0.240309</td>\n",
              "      <td>0.076990</td>\n",
              "      <td>8.05</td>\n",
              "      <td>0</td>\n",
              "    </tr>\n",
              "    <tr>\n",
              "      <th>67778</th>\n",
              "      <td>52691.0</td>\n",
              "      <td>-4.534529</td>\n",
              "      <td>3.953535</td>\n",
              "      <td>-5.504287</td>\n",
              "      <td>1.372886</td>\n",
              "      <td>-1.395117</td>\n",
              "      <td>-1.605079</td>\n",
              "      <td>0.229691</td>\n",
              "      <td>1.457995</td>\n",
              "      <td>1.248685</td>\n",
              "      <td>1.654641</td>\n",
              "      <td>0.228712</td>\n",
              "      <td>0.616739</td>\n",
              "      <td>1.573766</td>\n",
              "      <td>-3.462539</td>\n",
              "      <td>1.163125</td>\n",
              "      <td>1.306961</td>\n",
              "      <td>3.078295</td>\n",
              "      <td>1.447541</td>\n",
              "      <td>-0.578927</td>\n",
              "      <td>0.901363</td>\n",
              "      <td>-0.582372</td>\n",
              "      <td>-0.422559</td>\n",
              "      <td>-0.027137</td>\n",
              "      <td>-0.421846</td>\n",
              "      <td>0.198761</td>\n",
              "      <td>-0.478710</td>\n",
              "      <td>-0.356306</td>\n",
              "      <td>-0.809343</td>\n",
              "      <td>99.99</td>\n",
              "      <td>0</td>\n",
              "    </tr>\n",
              "    <tr>\n",
              "      <th>14105</th>\n",
              "      <td>25097.0</td>\n",
              "      <td>0.328613</td>\n",
              "      <td>1.784994</td>\n",
              "      <td>-2.151250</td>\n",
              "      <td>1.984450</td>\n",
              "      <td>0.430838</td>\n",
              "      <td>-1.748658</td>\n",
              "      <td>0.782288</td>\n",
              "      <td>0.059741</td>\n",
              "      <td>0.801911</td>\n",
              "      <td>-1.848875</td>\n",
              "      <td>1.439029</td>\n",
              "      <td>-3.254110</td>\n",
              "      <td>1.084234</td>\n",
              "      <td>-1.678476</td>\n",
              "      <td>0.361425</td>\n",
              "      <td>0.970975</td>\n",
              "      <td>3.742668</td>\n",
              "      <td>1.916370</td>\n",
              "      <td>-0.637333</td>\n",
              "      <td>0.106209</td>\n",
              "      <td>-0.209499</td>\n",
              "      <td>-0.406531</td>\n",
              "      <td>0.360340</td>\n",
              "      <td>-0.051373</td>\n",
              "      <td>-0.437846</td>\n",
              "      <td>-0.438223</td>\n",
              "      <td>0.071792</td>\n",
              "      <td>-0.048209</td>\n",
              "      <td>89.99</td>\n",
              "      <td>0</td>\n",
              "    </tr>\n",
              "    <tr>\n",
              "      <th>91861</th>\n",
              "      <td>63658.0</td>\n",
              "      <td>-2.494223</td>\n",
              "      <td>-0.959327</td>\n",
              "      <td>-1.502036</td>\n",
              "      <td>-1.461678</td>\n",
              "      <td>-2.405308</td>\n",
              "      <td>1.252363</td>\n",
              "      <td>2.125351</td>\n",
              "      <td>0.548623</td>\n",
              "      <td>-1.621186</td>\n",
              "      <td>-0.314976</td>\n",
              "      <td>0.259608</td>\n",
              "      <td>0.232055</td>\n",
              "      <td>0.794498</td>\n",
              "      <td>0.247887</td>\n",
              "      <td>-1.344141</td>\n",
              "      <td>1.343013</td>\n",
              "      <td>0.214220</td>\n",
              "      <td>-1.136700</td>\n",
              "      <td>0.324923</td>\n",
              "      <td>0.254892</td>\n",
              "      <td>0.298906</td>\n",
              "      <td>0.910574</td>\n",
              "      <td>0.565710</td>\n",
              "      <td>-0.764100</td>\n",
              "      <td>0.046779</td>\n",
              "      <td>-0.243776</td>\n",
              "      <td>0.653238</td>\n",
              "      <td>-0.309387</td>\n",
              "      <td>630.50</td>\n",
              "      <td>0</td>\n",
              "    </tr>\n",
              "    <tr>\n",
              "      <th>128881</th>\n",
              "      <td>78873.0</td>\n",
              "      <td>-0.576056</td>\n",
              "      <td>0.475505</td>\n",
              "      <td>2.290169</td>\n",
              "      <td>1.338604</td>\n",
              "      <td>0.211965</td>\n",
              "      <td>1.416114</td>\n",
              "      <td>0.382802</td>\n",
              "      <td>-0.243705</td>\n",
              "      <td>1.240130</td>\n",
              "      <td>0.920344</td>\n",
              "      <td>0.561785</td>\n",
              "      <td>1.013299</td>\n",
              "      <td>-0.264936</td>\n",
              "      <td>-1.435995</td>\n",
              "      <td>-1.944818</td>\n",
              "      <td>-1.606928</td>\n",
              "      <td>0.407879</td>\n",
              "      <td>-0.609942</td>\n",
              "      <td>1.646413</td>\n",
              "      <td>0.218217</td>\n",
              "      <td>-0.441756</td>\n",
              "      <td>-0.315787</td>\n",
              "      <td>-0.155217</td>\n",
              "      <td>-0.295014</td>\n",
              "      <td>-0.374992</td>\n",
              "      <td>-0.551807</td>\n",
              "      <td>-0.621239</td>\n",
              "      <td>-0.516807</td>\n",
              "      <td>16.89</td>\n",
              "      <td>0</td>\n",
              "    </tr>\n",
              "    <tr>\n",
              "      <th>235558</th>\n",
              "      <td>148438.0</td>\n",
              "      <td>-1.271155</td>\n",
              "      <td>0.583717</td>\n",
              "      <td>1.225148</td>\n",
              "      <td>-0.669367</td>\n",
              "      <td>0.579606</td>\n",
              "      <td>0.007095</td>\n",
              "      <td>0.727418</td>\n",
              "      <td>-0.132214</td>\n",
              "      <td>0.469154</td>\n",
              "      <td>-0.855062</td>\n",
              "      <td>-0.913917</td>\n",
              "      <td>-0.871981</td>\n",
              "      <td>-0.338374</td>\n",
              "      <td>-1.872130</td>\n",
              "      <td>0.621329</td>\n",
              "      <td>0.789994</td>\n",
              "      <td>0.201295</td>\n",
              "      <td>0.958624</td>\n",
              "      <td>-0.381128</td>\n",
              "      <td>0.074809</td>\n",
              "      <td>0.026224</td>\n",
              "      <td>0.482234</td>\n",
              "      <td>-0.360758</td>\n",
              "      <td>0.424980</td>\n",
              "      <td>0.703699</td>\n",
              "      <td>0.733622</td>\n",
              "      <td>-0.112587</td>\n",
              "      <td>-0.071235</td>\n",
              "      <td>65.50</td>\n",
              "      <td>0</td>\n",
              "    </tr>\n",
              "    <tr>\n",
              "      <th>119848</th>\n",
              "      <td>75605.0</td>\n",
              "      <td>1.226745</td>\n",
              "      <td>-0.984303</td>\n",
              "      <td>0.439092</td>\n",
              "      <td>-0.946761</td>\n",
              "      <td>-0.906634</td>\n",
              "      <td>0.311123</td>\n",
              "      <td>-0.963616</td>\n",
              "      <td>0.080820</td>\n",
              "      <td>-0.721849</td>\n",
              "      <td>0.707959</td>\n",
              "      <td>0.488090</td>\n",
              "      <td>0.141203</td>\n",
              "      <td>1.328810</td>\n",
              "      <td>-0.474819</td>\n",
              "      <td>0.414252</td>\n",
              "      <td>1.986642</td>\n",
              "      <td>-0.665755</td>\n",
              "      <td>-0.066423</td>\n",
              "      <td>0.915017</td>\n",
              "      <td>0.393028</td>\n",
              "      <td>0.425439</td>\n",
              "      <td>0.976406</td>\n",
              "      <td>-0.355476</td>\n",
              "      <td>-0.765585</td>\n",
              "      <td>0.546639</td>\n",
              "      <td>-0.007476</td>\n",
              "      <td>0.019669</td>\n",
              "      <td>0.022592</td>\n",
              "      <td>109.00</td>\n",
              "      <td>0</td>\n",
              "    </tr>\n",
              "  </tbody>\n",
              "</table>\n",
              "</div>"
            ],
            "text/plain": [
              "            Time        V1        V2  ...       V28  Amount  Class\n",
              "180459  124550.0 -0.769523 -0.740289  ...  0.432841  267.70      0\n",
              "62560    50317.0 -0.379474  1.153319  ... -0.357081   24.19      0\n",
              "140395   83699.0  1.103428 -0.215299  ...  0.028267   15.00      0\n",
              "53086    45808.0 -0.305537  1.059246  ...  0.076990    8.05      0\n",
              "67778    52691.0 -4.534529  3.953535  ... -0.809343   99.99      0\n",
              "14105    25097.0  0.328613  1.784994  ... -0.048209   89.99      0\n",
              "91861    63658.0 -2.494223 -0.959327  ... -0.309387  630.50      0\n",
              "128881   78873.0 -0.576056  0.475505  ... -0.516807   16.89      0\n",
              "235558  148438.0 -1.271155  0.583717  ... -0.071235   65.50      0\n",
              "119848   75605.0  1.226745 -0.984303  ...  0.022592  109.00      0\n",
              "\n",
              "[10 rows x 31 columns]"
            ]
          },
          "metadata": {
            "tags": []
          },
          "execution_count": 15
        }
      ]
    },
    {
      "cell_type": "markdown",
      "metadata": {
        "id": "R22NYLVOfy8V"
      },
      "source": [
        "### Concatenating \"new_legit\" and \"fraud\""
      ]
    },
    {
      "cell_type": "code",
      "metadata": {
        "id": "uOrHSaYmfudq"
      },
      "source": [
        "new_df = pd.concat([new_legit, fraud], axis = 0)"
      ],
      "execution_count": 16,
      "outputs": []
    },
    {
      "cell_type": "code",
      "metadata": {
        "colab": {
          "base_uri": "https://localhost:8080/"
        },
        "id": "dX6_bMqogJiT",
        "outputId": "e9e153f2-8810-4048-9474-7a741e99c2c6"
      },
      "source": [
        "print(new_df)"
      ],
      "execution_count": 17,
      "outputs": [
        {
          "output_type": "stream",
          "text": [
            "            Time        V1        V2  ...       V28  Amount  Class\n",
            "180459  124550.0 -0.769523 -0.740289  ...  0.432841  267.70      0\n",
            "62560    50317.0 -0.379474  1.153319  ... -0.357081   24.19      0\n",
            "140395   83699.0  1.103428 -0.215299  ...  0.028267   15.00      0\n",
            "53086    45808.0 -0.305537  1.059246  ...  0.076990    8.05      0\n",
            "67778    52691.0 -4.534529  3.953535  ... -0.809343   99.99      0\n",
            "...          ...       ...       ...  ...       ...     ...    ...\n",
            "279863  169142.0 -1.927883  1.125653  ...  0.147968  390.00      1\n",
            "280143  169347.0  1.378559  1.289381  ...  0.186637    0.76      1\n",
            "280149  169351.0 -0.676143  1.126366  ...  0.194361   77.89      1\n",
            "281144  169966.0 -3.113832  0.585864  ... -0.253700  245.00      1\n",
            "281674  170348.0  1.991976  0.158476  ... -0.015309   42.53      1\n",
            "\n",
            "[984 rows x 31 columns]\n"
          ],
          "name": "stdout"
        }
      ]
    },
    {
      "cell_type": "code",
      "metadata": {
        "colab": {
          "base_uri": "https://localhost:8080/"
        },
        "id": "5GXGL8DcgM07",
        "outputId": "9c7849bd-e7e1-4708-c310-3f662c7baf6a"
      },
      "source": [
        "new_df[\"Class\"].value_counts()"
      ],
      "execution_count": 18,
      "outputs": [
        {
          "output_type": "execute_result",
          "data": {
            "text/plain": [
              "1    492\n",
              "0    492\n",
              "Name: Class, dtype: int64"
            ]
          },
          "metadata": {
            "tags": []
          },
          "execution_count": 18
        }
      ]
    },
    {
      "cell_type": "code",
      "metadata": {
        "colab": {
          "base_uri": "https://localhost:8080/",
          "height": 162
        },
        "id": "pRQbvQLFgrZQ",
        "outputId": "13f634db-1943-45da-ac5d-e3b69727a427"
      },
      "source": [
        "new_df.groupby('Class').mean()"
      ],
      "execution_count": 19,
      "outputs": [
        {
          "output_type": "execute_result",
          "data": {
            "text/html": [
              "<div>\n",
              "<style scoped>\n",
              "    .dataframe tbody tr th:only-of-type {\n",
              "        vertical-align: middle;\n",
              "    }\n",
              "\n",
              "    .dataframe tbody tr th {\n",
              "        vertical-align: top;\n",
              "    }\n",
              "\n",
              "    .dataframe thead th {\n",
              "        text-align: right;\n",
              "    }\n",
              "</style>\n",
              "<table border=\"1\" class=\"dataframe\">\n",
              "  <thead>\n",
              "    <tr style=\"text-align: right;\">\n",
              "      <th></th>\n",
              "      <th>Time</th>\n",
              "      <th>V1</th>\n",
              "      <th>V2</th>\n",
              "      <th>V3</th>\n",
              "      <th>V4</th>\n",
              "      <th>V5</th>\n",
              "      <th>V6</th>\n",
              "      <th>V7</th>\n",
              "      <th>V8</th>\n",
              "      <th>V9</th>\n",
              "      <th>V10</th>\n",
              "      <th>V11</th>\n",
              "      <th>V12</th>\n",
              "      <th>V13</th>\n",
              "      <th>V14</th>\n",
              "      <th>V15</th>\n",
              "      <th>V16</th>\n",
              "      <th>V17</th>\n",
              "      <th>V18</th>\n",
              "      <th>V19</th>\n",
              "      <th>V20</th>\n",
              "      <th>V21</th>\n",
              "      <th>V22</th>\n",
              "      <th>V23</th>\n",
              "      <th>V24</th>\n",
              "      <th>V25</th>\n",
              "      <th>V26</th>\n",
              "      <th>V27</th>\n",
              "      <th>V28</th>\n",
              "      <th>Amount</th>\n",
              "    </tr>\n",
              "    <tr>\n",
              "      <th>Class</th>\n",
              "      <th></th>\n",
              "      <th></th>\n",
              "      <th></th>\n",
              "      <th></th>\n",
              "      <th></th>\n",
              "      <th></th>\n",
              "      <th></th>\n",
              "      <th></th>\n",
              "      <th></th>\n",
              "      <th></th>\n",
              "      <th></th>\n",
              "      <th></th>\n",
              "      <th></th>\n",
              "      <th></th>\n",
              "      <th></th>\n",
              "      <th></th>\n",
              "      <th></th>\n",
              "      <th></th>\n",
              "      <th></th>\n",
              "      <th></th>\n",
              "      <th></th>\n",
              "      <th></th>\n",
              "      <th></th>\n",
              "      <th></th>\n",
              "      <th></th>\n",
              "      <th></th>\n",
              "      <th></th>\n",
              "      <th></th>\n",
              "      <th></th>\n",
              "      <th></th>\n",
              "    </tr>\n",
              "  </thead>\n",
              "  <tbody>\n",
              "    <tr>\n",
              "      <th>0</th>\n",
              "      <td>97944.684959</td>\n",
              "      <td>-0.052311</td>\n",
              "      <td>-0.107803</td>\n",
              "      <td>-0.081503</td>\n",
              "      <td>0.018100</td>\n",
              "      <td>0.084448</td>\n",
              "      <td>-0.075097</td>\n",
              "      <td>0.057941</td>\n",
              "      <td>-0.023319</td>\n",
              "      <td>0.009933</td>\n",
              "      <td>-0.056672</td>\n",
              "      <td>-0.075445</td>\n",
              "      <td>0.021919</td>\n",
              "      <td>-0.087066</td>\n",
              "      <td>0.027062</td>\n",
              "      <td>-0.018202</td>\n",
              "      <td>-0.017199</td>\n",
              "      <td>0.030756</td>\n",
              "      <td>-0.000025</td>\n",
              "      <td>-0.027626</td>\n",
              "      <td>0.057911</td>\n",
              "      <td>0.026945</td>\n",
              "      <td>0.013070</td>\n",
              "      <td>-0.092467</td>\n",
              "      <td>0.026095</td>\n",
              "      <td>-0.026625</td>\n",
              "      <td>0.020784</td>\n",
              "      <td>0.036189</td>\n",
              "      <td>0.009209</td>\n",
              "      <td>119.004492</td>\n",
              "    </tr>\n",
              "    <tr>\n",
              "      <th>1</th>\n",
              "      <td>80746.806911</td>\n",
              "      <td>-4.771948</td>\n",
              "      <td>3.623778</td>\n",
              "      <td>-7.033281</td>\n",
              "      <td>4.542029</td>\n",
              "      <td>-3.151225</td>\n",
              "      <td>-1.397737</td>\n",
              "      <td>-5.568731</td>\n",
              "      <td>0.570636</td>\n",
              "      <td>-2.581123</td>\n",
              "      <td>-5.676883</td>\n",
              "      <td>3.800173</td>\n",
              "      <td>-6.259393</td>\n",
              "      <td>-0.109334</td>\n",
              "      <td>-6.971723</td>\n",
              "      <td>-0.092929</td>\n",
              "      <td>-4.139946</td>\n",
              "      <td>-6.665836</td>\n",
              "      <td>-2.246308</td>\n",
              "      <td>0.680659</td>\n",
              "      <td>0.372319</td>\n",
              "      <td>0.713588</td>\n",
              "      <td>0.014049</td>\n",
              "      <td>-0.040308</td>\n",
              "      <td>-0.105130</td>\n",
              "      <td>0.041449</td>\n",
              "      <td>0.051648</td>\n",
              "      <td>0.170575</td>\n",
              "      <td>0.075667</td>\n",
              "      <td>122.211321</td>\n",
              "    </tr>\n",
              "  </tbody>\n",
              "</table>\n",
              "</div>"
            ],
            "text/plain": [
              "               Time        V1        V2  ...       V27       V28      Amount\n",
              "Class                                    ...                                \n",
              "0      97944.684959 -0.052311 -0.107803  ...  0.036189  0.009209  119.004492\n",
              "1      80746.806911 -4.771948  3.623778  ...  0.170575  0.075667  122.211321\n",
              "\n",
              "[2 rows x 30 columns]"
            ]
          },
          "metadata": {
            "tags": []
          },
          "execution_count": 19
        }
      ]
    },
    {
      "cell_type": "markdown",
      "metadata": {
        "id": "jOAPILIotFLQ"
      },
      "source": [
        "### Splitting the data into features and target"
      ]
    },
    {
      "cell_type": "code",
      "metadata": {
        "id": "gCAU3jLIg6Qf"
      },
      "source": [
        "x = new_df.iloc[:, :-1]\n",
        "y = new_df.iloc[:, -1]"
      ],
      "execution_count": 20,
      "outputs": []
    },
    {
      "cell_type": "code",
      "metadata": {
        "colab": {
          "base_uri": "https://localhost:8080/",
          "height": 224
        },
        "id": "96sikDSctWMh",
        "outputId": "25ccf421-763a-405d-9bdc-6a790bc139d5"
      },
      "source": [
        "x.head()"
      ],
      "execution_count": 21,
      "outputs": [
        {
          "output_type": "execute_result",
          "data": {
            "text/html": [
              "<div>\n",
              "<style scoped>\n",
              "    .dataframe tbody tr th:only-of-type {\n",
              "        vertical-align: middle;\n",
              "    }\n",
              "\n",
              "    .dataframe tbody tr th {\n",
              "        vertical-align: top;\n",
              "    }\n",
              "\n",
              "    .dataframe thead th {\n",
              "        text-align: right;\n",
              "    }\n",
              "</style>\n",
              "<table border=\"1\" class=\"dataframe\">\n",
              "  <thead>\n",
              "    <tr style=\"text-align: right;\">\n",
              "      <th></th>\n",
              "      <th>Time</th>\n",
              "      <th>V1</th>\n",
              "      <th>V2</th>\n",
              "      <th>V3</th>\n",
              "      <th>V4</th>\n",
              "      <th>V5</th>\n",
              "      <th>V6</th>\n",
              "      <th>V7</th>\n",
              "      <th>V8</th>\n",
              "      <th>V9</th>\n",
              "      <th>V10</th>\n",
              "      <th>V11</th>\n",
              "      <th>V12</th>\n",
              "      <th>V13</th>\n",
              "      <th>V14</th>\n",
              "      <th>V15</th>\n",
              "      <th>V16</th>\n",
              "      <th>V17</th>\n",
              "      <th>V18</th>\n",
              "      <th>V19</th>\n",
              "      <th>V20</th>\n",
              "      <th>V21</th>\n",
              "      <th>V22</th>\n",
              "      <th>V23</th>\n",
              "      <th>V24</th>\n",
              "      <th>V25</th>\n",
              "      <th>V26</th>\n",
              "      <th>V27</th>\n",
              "      <th>V28</th>\n",
              "      <th>Amount</th>\n",
              "    </tr>\n",
              "  </thead>\n",
              "  <tbody>\n",
              "    <tr>\n",
              "      <th>180459</th>\n",
              "      <td>124550.0</td>\n",
              "      <td>-0.769523</td>\n",
              "      <td>-0.740289</td>\n",
              "      <td>-3.232501</td>\n",
              "      <td>0.646654</td>\n",
              "      <td>2.583942</td>\n",
              "      <td>-2.144038</td>\n",
              "      <td>1.710934</td>\n",
              "      <td>-0.410972</td>\n",
              "      <td>-0.555162</td>\n",
              "      <td>-1.331541</td>\n",
              "      <td>0.999056</td>\n",
              "      <td>-0.450714</td>\n",
              "      <td>-1.358006</td>\n",
              "      <td>-1.467250</td>\n",
              "      <td>-0.427492</td>\n",
              "      <td>-0.272639</td>\n",
              "      <td>1.944838</td>\n",
              "      <td>1.902235</td>\n",
              "      <td>0.608326</td>\n",
              "      <td>0.758915</td>\n",
              "      <td>0.691741</td>\n",
              "      <td>1.364693</td>\n",
              "      <td>0.668579</td>\n",
              "      <td>-0.700736</td>\n",
              "      <td>-0.972079</td>\n",
              "      <td>-0.413428</td>\n",
              "      <td>0.243452</td>\n",
              "      <td>0.432841</td>\n",
              "      <td>267.70</td>\n",
              "    </tr>\n",
              "    <tr>\n",
              "      <th>62560</th>\n",
              "      <td>50317.0</td>\n",
              "      <td>-0.379474</td>\n",
              "      <td>1.153319</td>\n",
              "      <td>1.062073</td>\n",
              "      <td>0.255905</td>\n",
              "      <td>1.356841</td>\n",
              "      <td>-0.330336</td>\n",
              "      <td>1.768379</td>\n",
              "      <td>-0.744261</td>\n",
              "      <td>-0.743575</td>\n",
              "      <td>0.087334</td>\n",
              "      <td>-1.090290</td>\n",
              "      <td>-0.172559</td>\n",
              "      <td>0.988523</td>\n",
              "      <td>-0.229796</td>\n",
              "      <td>0.488429</td>\n",
              "      <td>-0.230592</td>\n",
              "      <td>-0.922873</td>\n",
              "      <td>-0.039339</td>\n",
              "      <td>0.292647</td>\n",
              "      <td>0.158378</td>\n",
              "      <td>-0.056096</td>\n",
              "      <td>0.187469</td>\n",
              "      <td>-0.548637</td>\n",
              "      <td>-0.591952</td>\n",
              "      <td>0.561483</td>\n",
              "      <td>-0.311998</td>\n",
              "      <td>-0.384768</td>\n",
              "      <td>-0.357081</td>\n",
              "      <td>24.19</td>\n",
              "    </tr>\n",
              "    <tr>\n",
              "      <th>140395</th>\n",
              "      <td>83699.0</td>\n",
              "      <td>1.103428</td>\n",
              "      <td>-0.215299</td>\n",
              "      <td>1.350711</td>\n",
              "      <td>0.897186</td>\n",
              "      <td>-1.069743</td>\n",
              "      <td>-0.024331</td>\n",
              "      <td>-0.683371</td>\n",
              "      <td>0.184929</td>\n",
              "      <td>0.896975</td>\n",
              "      <td>-0.288852</td>\n",
              "      <td>-0.210466</td>\n",
              "      <td>0.659984</td>\n",
              "      <td>0.015531</td>\n",
              "      <td>-0.366909</td>\n",
              "      <td>0.422639</td>\n",
              "      <td>-0.226806</td>\n",
              "      <td>0.220688</td>\n",
              "      <td>-0.796569</td>\n",
              "      <td>-0.524448</td>\n",
              "      <td>-0.127976</td>\n",
              "      <td>-0.038344</td>\n",
              "      <td>0.106042</td>\n",
              "      <td>0.094952</td>\n",
              "      <td>0.437660</td>\n",
              "      <td>0.137082</td>\n",
              "      <td>0.325662</td>\n",
              "      <td>0.033051</td>\n",
              "      <td>0.028267</td>\n",
              "      <td>15.00</td>\n",
              "    </tr>\n",
              "    <tr>\n",
              "      <th>53086</th>\n",
              "      <td>45808.0</td>\n",
              "      <td>-0.305537</td>\n",
              "      <td>1.059246</td>\n",
              "      <td>0.823741</td>\n",
              "      <td>-0.328596</td>\n",
              "      <td>0.656286</td>\n",
              "      <td>0.026208</td>\n",
              "      <td>0.620435</td>\n",
              "      <td>0.133672</td>\n",
              "      <td>-0.611405</td>\n",
              "      <td>-0.352489</td>\n",
              "      <td>0.481447</td>\n",
              "      <td>0.342700</td>\n",
              "      <td>0.464501</td>\n",
              "      <td>-0.347533</td>\n",
              "      <td>0.254041</td>\n",
              "      <td>0.910000</td>\n",
              "      <td>-0.680185</td>\n",
              "      <td>0.711669</td>\n",
              "      <td>0.635765</td>\n",
              "      <td>0.186193</td>\n",
              "      <td>-0.283884</td>\n",
              "      <td>-0.773229</td>\n",
              "      <td>-0.164148</td>\n",
              "      <td>-0.883463</td>\n",
              "      <td>-0.025500</td>\n",
              "      <td>0.125925</td>\n",
              "      <td>0.240309</td>\n",
              "      <td>0.076990</td>\n",
              "      <td>8.05</td>\n",
              "    </tr>\n",
              "    <tr>\n",
              "      <th>67778</th>\n",
              "      <td>52691.0</td>\n",
              "      <td>-4.534529</td>\n",
              "      <td>3.953535</td>\n",
              "      <td>-5.504287</td>\n",
              "      <td>1.372886</td>\n",
              "      <td>-1.395117</td>\n",
              "      <td>-1.605079</td>\n",
              "      <td>0.229691</td>\n",
              "      <td>1.457995</td>\n",
              "      <td>1.248685</td>\n",
              "      <td>1.654641</td>\n",
              "      <td>0.228712</td>\n",
              "      <td>0.616739</td>\n",
              "      <td>1.573766</td>\n",
              "      <td>-3.462539</td>\n",
              "      <td>1.163125</td>\n",
              "      <td>1.306961</td>\n",
              "      <td>3.078295</td>\n",
              "      <td>1.447541</td>\n",
              "      <td>-0.578927</td>\n",
              "      <td>0.901363</td>\n",
              "      <td>-0.582372</td>\n",
              "      <td>-0.422559</td>\n",
              "      <td>-0.027137</td>\n",
              "      <td>-0.421846</td>\n",
              "      <td>0.198761</td>\n",
              "      <td>-0.478710</td>\n",
              "      <td>-0.356306</td>\n",
              "      <td>-0.809343</td>\n",
              "      <td>99.99</td>\n",
              "    </tr>\n",
              "  </tbody>\n",
              "</table>\n",
              "</div>"
            ],
            "text/plain": [
              "            Time        V1        V2  ...       V27       V28  Amount\n",
              "180459  124550.0 -0.769523 -0.740289  ...  0.243452  0.432841  267.70\n",
              "62560    50317.0 -0.379474  1.153319  ... -0.384768 -0.357081   24.19\n",
              "140395   83699.0  1.103428 -0.215299  ...  0.033051  0.028267   15.00\n",
              "53086    45808.0 -0.305537  1.059246  ...  0.240309  0.076990    8.05\n",
              "67778    52691.0 -4.534529  3.953535  ... -0.356306 -0.809343   99.99\n",
              "\n",
              "[5 rows x 30 columns]"
            ]
          },
          "metadata": {
            "tags": []
          },
          "execution_count": 21
        }
      ]
    },
    {
      "cell_type": "code",
      "metadata": {
        "colab": {
          "base_uri": "https://localhost:8080/"
        },
        "id": "RRxjLXTKtcFw",
        "outputId": "0ae5c8eb-81d4-4ea9-8cba-32df76a70ac9"
      },
      "source": [
        "y.head()"
      ],
      "execution_count": 22,
      "outputs": [
        {
          "output_type": "execute_result",
          "data": {
            "text/plain": [
              "180459    0\n",
              "62560     0\n",
              "140395    0\n",
              "53086     0\n",
              "67778     0\n",
              "Name: Class, dtype: int64"
            ]
          },
          "metadata": {
            "tags": []
          },
          "execution_count": 22
        }
      ]
    },
    {
      "cell_type": "markdown",
      "metadata": {
        "id": "DB6BJWlDtilb"
      },
      "source": [
        "### Split into train and test"
      ]
    },
    {
      "cell_type": "code",
      "metadata": {
        "id": "fSozwW3Etfmn"
      },
      "source": [
        "X_train, X_test, y_train, y_test = train_test_split(x, y, test_size = 0.2, stratify = y, random_state = 42)"
      ],
      "execution_count": 23,
      "outputs": []
    },
    {
      "cell_type": "markdown",
      "metadata": {
        "id": "SqWuMhjivUXa"
      },
      "source": [
        "### Train and Predict Different Model to check accuracy:-"
      ]
    },
    {
      "cell_type": "code",
      "metadata": {
        "id": "-UUaQY4suOz1"
      },
      "source": [
        "def get_score(model, X_train, X_test, y_train, y_test):\n",
        "  model.fit(X_train, y_train)\n",
        "  y_pred = model.predict(X_test)\n",
        "  return accuracy_score(y_pred, y_test)"
      ],
      "execution_count": 24,
      "outputs": []
    },
    {
      "cell_type": "markdown",
      "metadata": {
        "id": "nyXyOLARxRXZ"
      },
      "source": [
        "### Decision Tree Classifier"
      ]
    },
    {
      "cell_type": "code",
      "metadata": {
        "colab": {
          "base_uri": "https://localhost:8080/"
        },
        "id": "cU9pKDXvvbpl",
        "outputId": "70177b61-5bc3-4c38-affc-aa2553826b7b"
      },
      "source": [
        "accuracy_DecisionTree = get_score(\n",
        "    DecisionTreeClassifier(criterion = 'entropy', random_state = 42),X_train, X_test, y_train, y_test)\n",
        "print(\"Decision Tree Classifier's Accuracy is {}.\".format(accuracy_DecisionTree * 100))"
      ],
      "execution_count": 25,
      "outputs": [
        {
          "output_type": "stream",
          "text": [
            "Decision Tree Classifier's Accuracy is 91.87817258883248.\n"
          ],
          "name": "stdout"
        }
      ]
    },
    {
      "cell_type": "markdown",
      "metadata": {
        "id": "RKYEie4ExfdG"
      },
      "source": [
        "### Random Forest Classifier"
      ]
    },
    {
      "cell_type": "code",
      "metadata": {
        "colab": {
          "base_uri": "https://localhost:8080/"
        },
        "id": "YsuKAuXlwXEp",
        "outputId": "b120c635-030b-40df-9725-458caabdb2a5"
      },
      "source": [
        "accuracy_RandomForest = get_score(\n",
        "    RandomForestClassifier(n_estimators = 10, criterion = 'entropy', random_state = 0),X_train, X_test, y_train, y_test)\n",
        "print(\"Random Forest Classifier's Accuracy is {}.\".format(accuracy_RandomForest * 100))"
      ],
      "execution_count": 26,
      "outputs": [
        {
          "output_type": "stream",
          "text": [
            "Random Forest Classifier's Accuracy is 93.90862944162437.\n"
          ],
          "name": "stdout"
        }
      ]
    },
    {
      "cell_type": "markdown",
      "metadata": {
        "id": "qDZNYIvzx4A6"
      },
      "source": [
        "### K Nearest Neighbour Classifier"
      ]
    },
    {
      "cell_type": "code",
      "metadata": {
        "colab": {
          "base_uri": "https://localhost:8080/"
        },
        "id": "69Zbe_SgxwCO",
        "outputId": "b0a6ee31-0cb9-46f1-b13a-e84b1504a55e"
      },
      "source": [
        "accuracy_KNNclf = get_score(\n",
        "    KNeighborsClassifier(n_neighbors = 3, metric = 'minkowski', p = 2),X_train, X_test, y_train, y_test)\n",
        "print(\"KNN Classifier's Accuracy is {}.\".format(accuracy_KNNclf * 100))"
      ],
      "execution_count": 27,
      "outputs": [
        {
          "output_type": "stream",
          "text": [
            "KNN Classifier's Accuracy is 59.89847715736041.\n"
          ],
          "name": "stdout"
        }
      ]
    },
    {
      "cell_type": "markdown",
      "metadata": {
        "id": "dBnS_xuAymga"
      },
      "source": [
        "### Guassian NB Classifier"
      ]
    },
    {
      "cell_type": "code",
      "metadata": {
        "colab": {
          "base_uri": "https://localhost:8080/"
        },
        "id": "QWmYysUByUKZ",
        "outputId": "1b0f42df-c7ac-48ab-a330-ac5f3ebb255d"
      },
      "source": [
        "accuracy_GNBclf = get_score(\n",
        "    GaussianNB(),X_train, X_test, y_train, y_test)\n",
        "print(\"Guassian NB Classifier's Accuracy is {}.\".format(accuracy_GNBclf * 100))"
      ],
      "execution_count": 28,
      "outputs": [
        {
          "output_type": "stream",
          "text": [
            "Guassian NB Classifier's Accuracy is 86.29441624365482.\n"
          ],
          "name": "stdout"
        }
      ]
    },
    {
      "cell_type": "markdown",
      "metadata": {
        "id": "qtwsx3hty719"
      },
      "source": [
        "### Logistic Regression"
      ]
    },
    {
      "cell_type": "code",
      "metadata": {
        "colab": {
          "base_uri": "https://localhost:8080/"
        },
        "id": "ZQX-Nk1uy2AW",
        "outputId": "8cead62c-b3d1-483a-cede-5cf335978f8d"
      },
      "source": [
        "accuracy_LRclf = get_score(\n",
        "    LogisticRegression(random_state=0),X_train, X_test, y_train, y_test)\n",
        "print(\"Logistic Regression Classifier's Accuracy is {}.\".format(accuracy_LRclf * 100))"
      ],
      "execution_count": 29,
      "outputs": [
        {
          "output_type": "stream",
          "text": [
            "Logistic Regression Classifier's Accuracy is 93.4010152284264.\n"
          ],
          "name": "stdout"
        }
      ]
    },
    {
      "cell_type": "code",
      "metadata": {
        "id": "2652YC8YzNha"
      },
      "source": [
        ""
      ],
      "execution_count": 29,
      "outputs": []
    }
  ]
}